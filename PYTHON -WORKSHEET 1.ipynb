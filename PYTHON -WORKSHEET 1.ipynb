{
 "cells": [
  {
   "cell_type": "code",
   "execution_count": 12,
   "id": "ba4f61f4",
   "metadata": {},
   "outputs": [],
   "source": [
    "# 1. Which of the following operators is used to calculate remainder in a division?\n",
    "#Ans: C) % "
   ]
  },
  {
   "cell_type": "code",
   "execution_count": 2,
   "id": "6bd326f5",
   "metadata": {},
   "outputs": [
    {
     "data": {
      "text/plain": [
       "0.6666666666666666"
      ]
     },
     "execution_count": 2,
     "metadata": {},
     "output_type": "execute_result"
    }
   ],
   "source": [
    "# 2. In python 2//3 is equal to?\n",
    "# Ans: A) 0.666\n",
    "\n",
    "2/3"
   ]
  },
  {
   "cell_type": "code",
   "execution_count": 5,
   "id": "f8157442",
   "metadata": {},
   "outputs": [],
   "source": [
    "# 3. In python, 6<<2 is equal to?\n",
    "# Ans: C) 24"
   ]
  },
  {
   "cell_type": "code",
   "execution_count": 4,
   "id": "a1cc13f8",
   "metadata": {},
   "outputs": [
    {
     "data": {
      "text/plain": [
       "24"
      ]
     },
     "execution_count": 4,
     "metadata": {},
     "output_type": "execute_result"
    }
   ],
   "source": [
    "6<<2"
   ]
  },
  {
   "cell_type": "code",
   "execution_count": 7,
   "id": "c8b65596",
   "metadata": {},
   "outputs": [
    {
     "data": {
      "text/plain": [
       "2"
      ]
     },
     "execution_count": 7,
     "metadata": {},
     "output_type": "execute_result"
    }
   ],
   "source": [
    "#4. In python, 6&2 will give which of the following as output?\n",
    "# Ans:A) 2\n",
    "6&2\n"
   ]
  },
  {
   "cell_type": "code",
   "execution_count": 10,
   "id": "114dee91",
   "metadata": {},
   "outputs": [],
   "source": [
    "# 5. In python, 6|2 will give which of the following as output?\n",
    "#Ans: C) 0\n"
   ]
  },
  {
   "cell_type": "code",
   "execution_count": 11,
   "id": "055b8436",
   "metadata": {},
   "outputs": [],
   "source": [
    "# 6. What does the finally keyword denotes in python?\n",
    "# Ans: C) the finally block will be executed no matter if the try block raises an error or not"
   ]
  },
  {
   "cell_type": "code",
   "execution_count": 13,
   "id": "1fc0eddf",
   "metadata": {},
   "outputs": [],
   "source": [
    "# 7. What does raise keyword is used for in python?\n",
    "# Ans: A) It is used to raise an exception"
   ]
  },
  {
   "cell_type": "code",
   "execution_count": 14,
   "id": "9f19123c",
   "metadata": {},
   "outputs": [],
   "source": [
    "# 8. Which of the following is a common use case of yield keyword in python?\n",
    "# Ans: A) in defining an iterator"
   ]
  },
  {
   "cell_type": "code",
   "execution_count": 17,
   "id": "848971ae",
   "metadata": {},
   "outputs": [],
   "source": [
    "# 9. Which of the following are the valid variable names?\n",
    "# Ans: A) _abc, B) 1abc , C) abc2\n"
   ]
  },
  {
   "cell_type": "code",
   "execution_count": 18,
   "id": "601ff43a",
   "metadata": {},
   "outputs": [],
   "source": [
    "#10. Which of the following are the keywords in python?\n",
    "# Ans: A) yield, B) raise"
   ]
  },
  {
   "cell_type": "code",
   "execution_count": null,
   "id": "b02a574f",
   "metadata": {},
   "outputs": [],
   "source": [
    "import numpy as np"
   ]
  },
  {
   "cell_type": "code",
   "execution_count": null,
   "id": "f9ccd2ec",
   "metadata": {},
   "outputs": [],
   "source": [
    "# 11. Write a python program to find the factorial of a number\n",
    "import math\n",
    "n=9\n",
    "factorial=math.factorial(n)\n",
    "print(factorial)"
   ]
  },
  {
   "cell_type": "code",
   "execution_count": null,
   "id": "d79f66b3",
   "metadata": {},
   "outputs": [],
   "source": [
    "#12. Write a python program to find whether a number is prime or composite.\n",
    "# Ans:\n",
    "\n",
    "a=int(input('enter the number'))\n",
    "while True:\n",
    "    b=list(range(2,a))\n",
    "    for i in b:\n",
    "        if a%i==0:\n",
    "            print(a,'is not a prime number')\n",
    "    else:\n",
    "         print(a,'is a prime number')\n",
    "                 "
   ]
  },
  {
   "cell_type": "code",
   "execution_count": null,
   "id": "c326cb3d",
   "metadata": {},
   "outputs": [],
   "source": [
    "# 13. Write a python program to check whether a given string is palindrome or not.\n",
    "#ANs:\n",
    "\n",
    "def isPalindrome(s):\n",
    "    return s==s[::-1]\n",
    "\n",
    "s='malayalam'\n",
    "ans=isPalindrome(s)\n",
    "\n",
    "if ans:\n",
    "    print('Yes')\n",
    "else:\n",
    "    print('No')"
   ]
  },
  {
   "cell_type": "code",
   "execution_count": null,
   "id": "fce347c1",
   "metadata": {},
   "outputs": [],
   "source": [
    "# 14. Write a Python program to get the third side of right-angled triangle from two given sides.\n",
    "#Ans:\n",
    "\n",
    "print(\"Input three integers(sides of a triangle)\")\n",
    "int_num = list(map(int,input().split()))\n",
    "x,y,z = sorted(int_num)\n",
    "if x**2+y**2==z**2:\n",
    "    print('yes')\n",
    "else:\n",
    "    print('No')"
   ]
  },
  {
   "cell_type": "code",
   "execution_count": null,
   "id": "10c46d8e",
   "metadata": {},
   "outputs": [],
   "source": [
    "#15 Write a python program to print the frequency of each of the characters present in a given string.\n",
    "\n",
    "#ans:\n",
    "\n",
    "all_freq = {}\n",
    "\n",
    "\n",
    "for i in test_str:\n",
    "    if i in all_freq:\n",
    "        all_freq[i]+=1\n",
    "    else:\n",
    "        all_freq[i]=1"
   ]
  },
  {
   "cell_type": "code",
   "execution_count": null,
   "id": "778c391c",
   "metadata": {},
   "outputs": [],
   "source": []
  },
  {
   "cell_type": "code",
   "execution_count": null,
   "id": "84416293",
   "metadata": {},
   "outputs": [],
   "source": []
  },
  {
   "cell_type": "code",
   "execution_count": null,
   "id": "217f835a",
   "metadata": {},
   "outputs": [],
   "source": []
  }
 ],
 "metadata": {
  "kernelspec": {
   "display_name": "Python 3",
   "language": "python",
   "name": "python3"
  },
  "language_info": {
   "codemirror_mode": {
    "name": "ipython",
    "version": 3
   },
   "file_extension": ".py",
   "mimetype": "text/x-python",
   "name": "python",
   "nbconvert_exporter": "python",
   "pygments_lexer": "ipython3",
   "version": "3.8.8"
  }
 },
 "nbformat": 4,
 "nbformat_minor": 5
}
